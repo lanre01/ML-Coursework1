{
  "nbformat": 4,
  "nbformat_minor": 0,
  "metadata": {
    "colab": {
      "provenance": [],
      "gpuType": "T4"
    },
    "kernelspec": {
      "name": "python3",
      "display_name": "Python 3"
    },
    "language_info": {
      "name": "python"
    },
    "accelerator": "GPU"
  },
  "cells": [
    {
      "cell_type": "code",
      "execution_count": 19,
      "metadata": {
        "colab": {
          "base_uri": "https://localhost:8080/"
        },
        "id": "1mKW5jJzVAP0",
        "outputId": "12517656-e53c-4f01-ad47-1124d5503e89"
      },
      "outputs": [
        {
          "output_type": "stream",
          "name": "stdout",
          "text": [
            "Drive already mounted at /content/drive; to attempt to forcibly remount, call drive.mount(\"/content/drive\", force_remount=True).\n"
          ]
        }
      ],
      "source": [
        "import pandas as pd\n",
        "from sklearn.model_selection import train_test_split, StratifiedKFold, cross_val_score\n",
        "from sklearn.pipeline import make_pipeline\n",
        "from sklearn.preprocessing import StandardScaler\n",
        "from sklearn.neural_network import MLPClassifier\n",
        "from sklearn.metrics import accuracy_score\n",
        "\n",
        "from google.colab import drive\n",
        "drive.mount('/content/drive')"
      ]
    },
    {
      "cell_type": "code",
      "source": [
        "data = pd.read_csv('/content/drive/MyDrive/diabetes_binary_5050split_health_indicators_BRFSS2015.csv')"
      ],
      "metadata": {
        "id": "4snx9dKzVVZ1"
      },
      "execution_count": 20,
      "outputs": []
    },
    {
      "cell_type": "code",
      "source": [
        "# 1. Separate features (X) and target (y)\n",
        "X = data.drop(\"Diabetes_binary\", axis=1)\n",
        "y = data[\"Diabetes_binary\"]\n",
        "\n",
        "# 2. Stratified train-test split (70/30)\n",
        "X_train, X_test, y_train, y_test = train_test_split(\n",
        "    X, y, test_size=0.3, random_state=42, stratify=y\n",
        ")\n",
        "\n",
        "# 3. Build a pipeline\n",
        "mlp_pipeline = make_pipeline(\n",
        "    StandardScaler(),\n",
        "    MLPClassifier(hidden_layer_sizes=(10,), activation='relu',\n",
        "                  solver='adam', random_state=1, max_iter=300)\n",
        ")\n",
        "\n",
        "# 4. Cross-validation\n",
        "cv = StratifiedKFold(n_splits=5, shuffle=True, random_state=42)\n",
        "cv_scores = cross_val_score(mlp_pipeline, X, y, cv=cv, scoring=\"accuracy\")\n",
        "\n",
        "print(\"Cross-validation scores:\", cv_scores)\n",
        "print(\"Mean CV accuracy: %.3f ± %.3f\" % (cv_scores.mean(), cv_scores.std()))\n",
        "\n",
        "# 5. Fit and test accuracy\n",
        "mlp_pipeline.fit(X_train, y_train)\n",
        "y_pred = mlp_pipeline.predict(X_test)\n",
        "print(\"Test Accuracy: %.3f\" % accuracy_score(y_test, y_pred))"
      ],
      "metadata": {
        "colab": {
          "base_uri": "https://localhost:8080/"
        },
        "id": "dTmJBZwMXHPg",
        "outputId": "96038c49-05dc-469e-81cc-4f6ae7699541"
      },
      "execution_count": 21,
      "outputs": [
        {
          "output_type": "stream",
          "name": "stdout",
          "text": [
            "Cross-validation scores: [0.75344791 0.75465026 0.75180365 0.75116707 0.7548451 ]\n",
            "Mean CV accuracy: 0.753 ± 0.001\n",
            "Test Accuracy: 0.752\n"
          ]
        }
      ]
    }
  ]
}