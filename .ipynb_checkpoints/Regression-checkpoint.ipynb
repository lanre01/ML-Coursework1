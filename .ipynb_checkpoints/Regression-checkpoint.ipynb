{
 "cells": [
  {
   "cell_type": "code",
   "execution_count": 1,
   "id": "2dc28473-dec2-4728-9df1-8358d3e87c4b",
   "metadata": {},
   "outputs": [],
   "source": [
    "# Data collection\n"
   ]
  },
  {
   "cell_type": "code",
   "execution_count": 2,
   "id": "f3ad601e-6ac6-4169-8906-d58c791945be",
   "metadata": {},
   "outputs": [],
   "source": [
    "# Data preprocessing\n"
   ]
  },
  {
   "cell_type": "code",
   "execution_count": 3,
   "id": "2d427591-5da7-426a-a441-b7cef2e69dc4",
   "metadata": {},
   "outputs": [],
   "source": [
    "# Linear regression\n"
   ]
  },
  {
   "cell_type": "code",
   "execution_count": 4,
   "id": "9aa18fa6-ee87-417f-99d3-5e7396ce4169",
   "metadata": {},
   "outputs": [],
   "source": [
    "# Support Vector Machine\n"
   ]
  },
  {
   "cell_type": "code",
   "execution_count": 5,
   "id": "1ff6e810-07fb-40a2-a7fc-216f1d4aab8b",
   "metadata": {},
   "outputs": [],
   "source": [
    "# Decision Trees\n"
   ]
  },
  {
   "cell_type": "code",
   "execution_count": null,
   "id": "5cf94363-40df-4558-8654-6a6e86032104",
   "metadata": {},
   "outputs": [],
   "source": [
    "# Mulit-layer Perceptron Neutral Network"
   ]
  }
 ],
 "metadata": {
  "kernelspec": {
   "display_name": "Python [conda env:base] *",
   "language": "python",
   "name": "conda-base-py"
  },
  "language_info": {
   "codemirror_mode": {
    "name": "ipython",
    "version": 3
   },
   "file_extension": ".py",
   "mimetype": "text/x-python",
   "name": "python",
   "nbconvert_exporter": "python",
   "pygments_lexer": "ipython3",
   "version": "3.13.5"
  }
 },
 "nbformat": 4,
 "nbformat_minor": 5
}
